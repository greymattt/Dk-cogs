{
 "cells": [
  {
   "cell_type": "code",
   "execution_count": null,
   "source": [
    "pip install --upgrade google-api-python-client google-auth-httplib2 google-auth-oauthlib"
   ],
   "outputs": [],
   "metadata": {}
  }
 ],
 "metadata": {
  "orig_nbformat": 4,
  "language_info": {
   "name": "python",
   "version": "3.8.8"
  },
  "kernelspec": {
   "name": "python3",
   "display_name": "Python 3.8.8 64-bit ('VE': venv)"
  },
  "interpreter": {
   "hash": "9c9fb39ad65c8d2b0343d4164e777e63eccfa6949a10fe37d9f459d8695a5afb"
  }
 },
 "nbformat": 4,
 "nbformat_minor": 2
}